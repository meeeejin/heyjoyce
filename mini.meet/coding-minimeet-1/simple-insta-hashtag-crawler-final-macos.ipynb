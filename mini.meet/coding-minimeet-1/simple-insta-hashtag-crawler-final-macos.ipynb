{
 "cells": [
  {
   "cell_type": "code",
   "execution_count": null,
   "metadata": {},
   "outputs": [],
   "source": [
    "# 크롤링에 필요한 library 설치\n",
    "!pip install --upgrade setuptools\n",
    "!CFLAGS='-stdlib=libc++' pip install konlpy\n",
    "!pip install selenium"
   ]
  },
  {
   "cell_type": "code",
   "execution_count": null,
   "metadata": {},
   "outputs": [],
   "source": [
    "# 크롤링에 필요한 library import\n",
    "import time\n",
    "from konlpy.tag import Okt\n",
    "from selenium import webdriver\n",
    "from selenium.webdriver.common.keys import Keys\n",
    "from selenium.common.exceptions import NoSuchElementException"
   ]
  },
  {
   "cell_type": "code",
   "execution_count": null,
   "metadata": {},
   "outputs": [],
   "source": [
    "# 크롤링 할 URL 입력\n",
    "url = \"https://www.instagram.com/explore/tags/scottishfold\"\n",
    "\n",
    "# Chrome webdriver를 통해, 크롬 브라우저를 간접적으로 실행 및 조작\n",
    "# 다운로드 받은 Chrome webdriver 경로 입력\n",
    "driver = webdriver.Chrome('/Users/mijin/chromedriver')\n",
    "\n",
    "# 웹 페이지가 완전히 로딩될 수 있도록, 5초간 대기\n",
    "driver.implicitly_wait(5)\n",
    "\n",
    "# 크롬 브라우저 실행 및 해당 url로 이동\n",
    "driver.get(url)"
   ]
  },
  {
   "cell_type": "code",
   "execution_count": null,
   "metadata": {},
   "outputs": [],
   "source": [
    "# 총 게시물 수를 클래스 이름으로 검색 후 저장\n",
    "totalCount =  driver.find_element_by_class_name('g47SY').text\n",
    "\n",
    "# 총 게시물 수 출력\n",
    "print(\"총 게시물 수:\", totalCount)"
   ]
  },
  {
   "cell_type": "code",
   "execution_count": null,
   "metadata": {},
   "outputs": [],
   "source": [
    "# body 태그에 속한 element들을 저장\n",
    "elem = driver.find_element_by_tag_name(\"body\") \n",
    "\n",
    "# 각 게시물의 실제 URL 경로를 담을 빈 리스트 생성\n",
    "hrefList = []\n",
    "\n",
    "# 페이지 스크롤을 위한 변수 생성\n",
    "pageDowns = 1"
   ]
  },
  {
   "cell_type": "code",
   "execution_count": null,
   "metadata": {},
   "outputs": [],
   "source": [
    "# 스크롤을 20번 내리면서 각 게시물의 실제 URL 경로 값 수집\n",
    "while pageDowns < 20:\n",
    "        # 스크롤 내림\n",
    "        elem.send_keys(Keys.PAGE_DOWN)\n",
    "        \n",
    "        # 다음 페이지 로딩을 위한 대기\n",
    "        time.sleep(1)\n",
    "        \n",
    "        # 현재 보이는 모든 게시물의 a 태그 값을 저장\n",
    "        aTags = driver.find_elements_by_css_selector('div.v1Nh3 > a')\n",
    "        \n",
    "        # 수집한 a 태그에서 게시물의 실제 URL 경로 값을 추출해 저장\n",
    "        for a in aTags:\n",
    "            hrefList.append(a.get_attribute('href'))\n",
    "            \n",
    "        # 페이지 스크롤을 1번 내렸다는 의미로 값 증가\n",
    "        pageDowns += 1"
   ]
  },
  {
   "cell_type": "code",
   "execution_count": null,
   "metadata": {},
   "outputs": [],
   "source": [
    "# 중복된 값을 제거하기 위해 list를 set으로 변환 후 다시 저장\n",
    "hrefList = list(set(hrefList))\n",
    "\n",
    "# (Key: Hashtag 이름, Vaule: 출현 빈도)를 한 쌍으로 갖는 dictionary 생성\n",
    "dictHashtags = {}\n",
    "\n",
    "# Text에서 hashtag만 추출하기 위해 Okt() 클래스 사용\n",
    "okt = Okt()"
   ]
  },
  {
   "cell_type": "code",
   "execution_count": null,
   "metadata": {},
   "outputs": [],
   "source": [
    "# 게시물들의 실제 URL 경로로 이동해, hashtag 수집\n",
    "for href in hrefList:\n",
    "    # 게시물 URL로 이동\n",
    "    driver.get(href)\n",
    "    \n",
    "    # 게시물 내용(이미지가 아닌)을 담은 부분을 따로 저장\n",
    "    try: \n",
    "        contents = driver.find_element_by_class_name('C4VMK')\n",
    "    except NoSuchElementException:\n",
    "        continue\n",
    "    \n",
    "    # Text 안의 각 단어 품사 태깅\n",
    "    text = okt.pos(contents.text)\n",
    "    \n",
    "    # 만약 품사가 hashtag로 판명이 되면, dictionary에 추가하고 출현 빈도를 1 증가\n",
    "    for data in text:\n",
    "        if data[1] == \"Hashtag\":\n",
    "            if not (data[0] in dictHashtags):\n",
    "                dictHashtags[data[0]] = 1\n",
    "            else:\n",
    "                dictHashtags[data[0]] += 1"
   ]
  },
  {
   "cell_type": "code",
   "execution_count": null,
   "metadata": {},
   "outputs": [],
   "source": [
    "# 출현 빈도를 기반으로 dictionary 정렬\n",
    "keys = sorted(dictHashtags.items(), key = lambda x:x[1], reverse = True)\n",
    "\n",
    "# 출현 빈도 1~15위 출력\n",
    "for k, v in keys[:15]:\n",
    "    print(\"{}({})\".format(k, v))          "
   ]
  },
  {
   "cell_type": "code",
   "execution_count": null,
   "metadata": {},
   "outputs": [],
   "source": [
    "# Chrome webdriver 종료\n",
    "driver.close() "
   ]
  },
  {
   "cell_type": "code",
   "execution_count": null,
   "metadata": {},
   "outputs": [],
   "source": [
    "# 시각화에 필요한 library 설치\n",
    "!pip install wordcloud"
   ]
  },
  {
   "cell_type": "code",
   "execution_count": null,
   "metadata": {},
   "outputs": [],
   "source": [
    "# 시각화에 필요한 library import\n",
    "from wordcloud import WordCloud\n",
    "import matplotlib.pyplot as plt"
   ]
  },
  {
   "cell_type": "code",
   "execution_count": null,
   "metadata": {},
   "outputs": [],
   "source": [
    "# macos\n",
    "font_path = '/Library/Fonts/AppleGothic.ttf'\n",
    "\n",
    "# TODO: 아까 수집한 hashtag와 출현 빈도를 기반으로 Wordcloud 생성\n",
    "wordcloud = WordCloud(font_path = font_path, background_color=\"white\", width=1000, height=1000, max_words=50, relative_scaling=0.5, normalize_plurals=False).generate_from_frequencies(dictHashtags)"
   ]
  },
  {
   "cell_type": "code",
   "execution_count": null,
   "metadata": {},
   "outputs": [],
   "source": [
    "# Wordcloud를 그려서 저장\n",
    "fig = plt.figure()\n",
    "plt.imshow(wordcloud, interpolation='bilinear')\n",
    "plt.axis('off')\n",
    "plt.savefig('hashtag-wordcloud.png')"
   ]
  }
 ],
 "metadata": {
  "kernelspec": {
   "display_name": "Python 3",
   "language": "python",
   "name": "python3"
  },
  "language_info": {
   "codemirror_mode": {
    "name": "ipython",
    "version": 3
   },
   "file_extension": ".py",
   "mimetype": "text/x-python",
   "name": "python",
   "nbconvert_exporter": "python",
   "pygments_lexer": "ipython3",
   "version": "3.7.3"
  }
 },
 "nbformat": 4,
 "nbformat_minor": 2
}
